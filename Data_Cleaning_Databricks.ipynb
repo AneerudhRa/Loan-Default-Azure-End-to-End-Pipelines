{
 "cells": [
  {
   "cell_type": "code",
   "execution_count": null,
   "metadata": {
    "application/vnd.databricks.v1+cell": {
     "cellMetadata": {
      "byteLimit": 2048000,
      "rowLimit": 10000
     },
     "inputWidgets": {},
     "nuid": "85ebd0fe-90a8-433f-b4d4-3685a85e7d45",
     "showTitle": false,
     "title": ""
    }
   },
   "outputs": [],
   "source": [
    "configs = {\n",
    "    \"fs.azure.account.auth.type\": \"CustomAccessToken\",\n",
    "    \"fs.azure.account.custom.token.provider.class\": spark.conf.get(\"spark.databricks.passthrough.adls.gen2.tokenProviderClassName\")\n",
    "}\n",
    "\n",
    "\n",
    "mount_point = \"/mnt/raw-data\"\n",
    "\n",
    "try:\n",
    "    dbutils.fs.unmount(mount_point)\n",
    "    # Optional: Catch the exception if the mount point does not exist\n",
    "except Exception as e:\n",
    "    print(f\"Could not unmount {mount_point}: {e}\")\n",
    "\n",
    "# Now proceed with the mounting\n",
    "dbutils.fs.mount(\n",
    "    source = \"abfss://raw-data@datalake0012anee.dfs.core.windows.net/\",\n",
    "    mount_point = mount_point,\n",
    "    extra_configs = configs\n",
    ")\n",
    "\n"
   ]
  },
  {
   "cell_type": "code",
   "execution_count": null,
   "metadata": {
    "application/vnd.databricks.v1+cell": {
     "cellMetadata": {
      "byteLimit": 2048000,
      "rowLimit": 10000
     },
     "inputWidgets": {},
     "nuid": "27ccc9be-2305-446c-8921-fd8cdc6bfecb",
     "showTitle": false,
     "title": ""
    }
   },
   "outputs": [
    {
     "data": {
      "text/plain": [
       "[FileInfo(path='dbfs:/mnt/raw-data/dbo.loan_raw.parquet', name='dbo.loan_raw.parquet', size=7275570, modificationTime=1710086103000)]"
      ]
     },
     "execution_count": 2,
     "metadata": {},
     "output_type": "execute_result"
    }
   ],
   "source": [
    "dbutils.fs.ls(\"/mnt/raw-data\")"
   ]
  },
  {
   "cell_type": "code",
   "execution_count": null,
   "metadata": {
    "application/vnd.databricks.v1+cell": {
     "cellMetadata": {
      "byteLimit": 2048000,
      "rowLimit": 10000
     },
     "inputWidgets": {},
     "nuid": "8379c3ad-e289-48f9-8686-5c7b6ffd78d3",
     "showTitle": false,
     "title": ""
    }
   },
   "outputs": [],
   "source": [
    "input_path = \"/mnt/raw-data/dbo.loan_raw.parquet\""
   ]
  },
  {
   "cell_type": "code",
   "execution_count": null,
   "metadata": {
    "application/vnd.databricks.v1+cell": {
     "cellMetadata": {
      "byteLimit": 2048000,
      "rowLimit": 10000
     },
     "inputWidgets": {},
     "nuid": "12d74324-30ee-46ce-af4e-f478bec4e67a",
     "showTitle": false,
     "title": ""
    }
   },
   "outputs": [],
   "source": [
    "df = spark.read.format('parquet').options(header='True', inferSchema='True').load(input_path)"
   ]
  },
  {
   "cell_type": "code",
   "execution_count": null,
   "metadata": {
    "application/vnd.databricks.v1+cell": {
     "cellMetadata": {
      "byteLimit": 2048000,
      "rowLimit": 10000
     },
     "inputWidgets": {},
     "nuid": "0bec370b-94df-4191-89bf-69a103f35dd5",
     "showTitle": false,
     "title": ""
    }
   },
   "outputs": [],
   "source": [
    "display(df)"
   ]
  },
  {
   "cell_type": "code",
   "execution_count": null,
   "metadata": {
    "application/vnd.databricks.v1+cell": {
     "cellMetadata": {
      "byteLimit": 2048000,
      "rowLimit": 10000
     },
     "inputWidgets": {},
     "nuid": "68e57a12-3f26-471f-b338-f8bdbc912047",
     "showTitle": false,
     "title": ""
    }
   },
   "outputs": [],
   "source": [
    "from pyspark.sql.functions import mean, col, regexp_replace, StringType, lower, count, when, sum as sqlsum\n"
   ]
  },
  {
   "cell_type": "code",
   "execution_count": null,
   "metadata": {
    "application/vnd.databricks.v1+cell": {
     "cellMetadata": {
      "byteLimit": 2048000,
      "rowLimit": 10000
     },
     "inputWidgets": {},
     "nuid": "7cc70934-a0c4-41b8-b217-36991559828c",
     "showTitle": false,
     "title": ""
    }
   },
   "outputs": [
    {
     "name": "stdout",
     "output_type": "stream",
     "text": [
      "(148670, 34)\n"
     ]
    }
   ],
   "source": [
    "print((df.count(), len(df.columns)))"
   ]
  },
  {
   "cell_type": "code",
   "execution_count": null,
   "metadata": {
    "application/vnd.databricks.v1+cell": {
     "cellMetadata": {
      "byteLimit": 2048000,
      "rowLimit": 10000
     },
     "inputWidgets": {},
     "nuid": "decd20d7-8f6d-4ec5-9e51-c0a149c9d7ee",
     "showTitle": false,
     "title": ""
    }
   },
   "outputs": [],
   "source": [
    "df = df.dropDuplicates()"
   ]
  },
  {
   "cell_type": "code",
   "execution_count": null,
   "metadata": {
    "application/vnd.databricks.v1+cell": {
     "cellMetadata": {
      "byteLimit": 2048000,
      "rowLimit": 10000
     },
     "inputWidgets": {},
     "nuid": "db96fcf0-993c-415c-84d4-60ae541870d2",
     "showTitle": false,
     "title": ""
    }
   },
   "outputs": [],
   "source": [
    "columns_to_drop = ['loan_limit', 'approv_in_adv', 'loan_type', 'loan_purpose', 'construction_type', 'Credit_Worthiness',\n",
    "                   'open_credit', 'Neg_ammortization', 'interest_only', 'lump_sum_payment', 'occupancy_type', 'credit_type',\n",
    "                   'co-applicant_credit_type', 'Security_Type', 'submission_of_application']\n",
    "df = df.drop(*columns_to_drop)"
   ]
  },
  {
   "cell_type": "code",
   "execution_count": null,
   "metadata": {
    "application/vnd.databricks.v1+cell": {
     "cellMetadata": {
      "byteLimit": 2048000,
      "rowLimit": 10000
     },
     "inputWidgets": {},
     "nuid": "2f5e3f80-7ee4-470f-9327-28d8c0d44930",
     "showTitle": false,
     "title": ""
    }
   },
   "outputs": [],
   "source": [
    "for col_name in df.columns:\n",
    "    df = df.withColumnRenamed(col_name, col_name.lower())"
   ]
  },
  {
   "cell_type": "code",
   "execution_count": null,
   "metadata": {
    "application/vnd.databricks.v1+cell": {
     "cellMetadata": {
      "byteLimit": 2048000,
      "rowLimit": 10000
     },
     "inputWidgets": {},
     "nuid": "75bc6409-214f-4c58-9807-3dc9c8b1fa0a",
     "showTitle": false,
     "title": ""
    }
   },
   "outputs": [],
   "source": [
    "numeric_columns = [\"rate_of_interest\", \"interest_rate_spread\", \"upfront_charges\", \"property_value\", \"ltv\", \"dtir1\", \"income\", \"term\"]\n",
    "for col_name in numeric_columns:\n",
    "    mean_val = df.select(mean(col(col_name))).collect()[0][0]\n",
    "    df = df.na.fill({col_name: mean_val})"
   ]
  },
  {
   "cell_type": "code",
   "execution_count": null,
   "metadata": {
    "application/vnd.databricks.v1+cell": {
     "cellMetadata": {
      "byteLimit": 2048000,
      "rowLimit": 10000
     },
     "inputWidgets": {},
     "nuid": "f03c359e-d00f-439b-a463-6eafb9dd2ee3",
     "showTitle": false,
     "title": ""
    }
   },
   "outputs": [],
   "source": [
    "df = df.withColumn(\"age\", regexp_replace(\"age\", \" \", \"null\"))\n",
    "df = df.na.drop(subset=[\"age\"])"
   ]
  },
  {
   "cell_type": "code",
   "execution_count": null,
   "metadata": {
    "application/vnd.databricks.v1+cell": {
     "cellMetadata": {
      "byteLimit": 2048000,
      "rowLimit": 10000
     },
     "inputWidgets": {},
     "nuid": "c1919109-ad52-4f7b-bd3c-9b78f11a29f7",
     "showTitle": false,
     "title": ""
    }
   },
   "outputs": [],
   "source": [
    "string_columns = [field.name for field in df.schema.fields if field.dataType == StringType()]\n",
    "for col_name in string_columns:\n",
    "    df = df.withColumn(col_name, lower(col(col_name)))"
   ]
  },
  {
   "cell_type": "code",
   "execution_count": null,
   "metadata": {
    "application/vnd.databricks.v1+cell": {
     "cellMetadata": {
      "byteLimit": 2048000,
      "rowLimit": 10000
     },
     "inputWidgets": {},
     "nuid": "72881d90-6c8d-4966-aa16-d46e44760c7b",
     "showTitle": false,
     "title": ""
    }
   },
   "outputs": [],
   "source": [
    "null_counts = df.select([sqlsum(col(c).isNull().cast(\"int\")).alias(c) for c in df.columns])\n",
    "null_counts.show()"
   ]
  },
  {
   "cell_type": "code",
   "execution_count": null,
   "metadata": {
    "application/vnd.databricks.v1+cell": {
     "cellMetadata": {
      "byteLimit": 2048000,
      "rowLimit": 10000
     },
     "inputWidgets": {},
     "nuid": "78ea28d7-7ee8-4337-8cbf-2d3a9e377a13",
     "showTitle": false,
     "title": ""
    }
   },
   "outputs": [
    {
     "name": "stdout",
     "output_type": "stream",
     "text": [
      "+-------+-----------------+------+-----------------+----------------------+------------------+-------------------+--------------------+-----------------+-----------------+------------------+----------+-----------+-----------------+------------------+------------------------+------+------------------+-------+-------------------+------------------+\n",
      "|summary|               id|  year|           gender|business_or_commercial|       loan_amount|   rate_of_interest|interest_rate_spread|  upfront_charges|             term|    property_value|secured_by|total_units|           income|      credit_score|co_applicant_credit_type|   age|               ltv| region|             status|             dtir1|\n",
      "+-------+-----------------+------+-----------------+----------------------+------------------+-------------------+--------------------+-----------------+-----------------+------------------+----------+-----------+-----------------+------------------+------------------------+------+------------------+-------+-------------------+------------------+\n",
      "|  count|           148470|148470|           148470|                148470|            148470|             148470|              148470|           148470|           148470|            148470|    148470|     148470|           148470|            148470|                  148470|148470|            148470| 148470|             148470|            148470|\n",
      "|   mean|99225.13256550145|2019.0|             NULL|                  NULL| 331291.3383175052|  4.045064904507992|  0.4416556604550836| 3226.70652249768|335.1435818673758|   498230.09055759|      NULL|       NULL|6957.338876147035| 699.7808244089715|                    NULL|  NULL| 72.73283523015881|   NULL|0.24543005320940256|37.732932420176006|\n",
      "| stddev|42918.27468402366|   0.0|             NULL|                  NULL|183901.57847825158|0.48762658263536335| 0.44565914115812344|2784.525660569587| 58.4224778421977|341218.29400943016|      NULL|       NULL|6297.729503790126|115.87564584157073|                    NULL|  NULL| 37.90427700790325|   NULL|0.43034333914913153|  9.65861785671608|\n",
      "|    min|            24890|  2019|           female|                   b/c|             16500|                0.0|  -3.638000011444092|              0.0|             96.0|            8000.0|      home|         1u|              0.0|               500|                     cib| 25-34|0.9674782156944275|central|                  0|               5.0|\n",
      "|    max|           173559|  2019|sex not available|                 nob/c|           3576500|                8.0|  3.3570001125335693|          60000.0|            360.0|          1.6508E7|      land|         4u|         578580.0|               900|                     exp|   >74|           7831.25|  south|                  1|              61.0|\n",
      "+-------+-----------------+------+-----------------+----------------------+------------------+-------------------+--------------------+-----------------+-----------------+------------------+----------+-----------+-----------------+------------------+------------------------+------+------------------+-------+-------------------+------------------+\n",
      "\n"
     ]
    }
   ],
   "source": [
    "df.describe().show()\n"
   ]
  },
  {
   "cell_type": "code",
   "execution_count": null,
   "metadata": {
    "application/vnd.databricks.v1+cell": {
     "cellMetadata": {
      "byteLimit": 2048000,
      "rowLimit": 10000
     },
     "inputWidgets": {},
     "nuid": "e90ff5c7-1292-431f-ba36-1c90f7f1228b",
     "showTitle": false,
     "title": ""
    }
   },
   "outputs": [],
   "source": [
    "output_path = \"abfss://cleaned-data@datalake0012anee.dfs.core.windows.net\"\n",
    "\n",
    "\n",
    "df.coalesce(1).write.mode(\"overwrite\").option(\"header\", \"true\").parquet(output_path)\n"
   ]
  }
 ],
 "metadata": {
  "application/vnd.databricks.v1+notebook": {
   "dashboards": [],
   "language": "python",
   "notebookMetadata": {
    "pythonIndentUnit": 4
   },
   "notebookName": "Data Cleaning - Descriptive Analytics",
   "widgets": {}
  },
  "language_info": {
   "name": "python"
  }
 },
 "nbformat": 4,
 "nbformat_minor": 0
}

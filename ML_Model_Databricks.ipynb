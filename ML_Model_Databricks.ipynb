{
 "cells": [
  {
   "cell_type": "code",
   "execution_count": 0,
   "metadata": {
    "application/vnd.databricks.v1+cell": {
     "cellMetadata": {
      "byteLimit": 2048000,
      "rowLimit": 10000
     },
     "inputWidgets": {},
     "nuid": "ce6d8665-e4f3-4056-99c8-71f982a2b31a",
     "showTitle": false,
     "title": ""
    },
    "id": "2KvI1AkPPKPR",
    "outputId": "9baae960-9bca-4642-a08b-547a7a9cc591"
   },
   "outputs": [
    {
     "output_type": "stream",
     "name": "stdout",
     "output_type": "stream",
     "text": [
      "/mnt/cleaned-data has been unmounted.\n"
     ]
    },
    {
     "output_type": "execute_result",
     "data": {
      "text/plain": [
       "True"
      ]
     },
     "execution_count": 2,
     "metadata": {},
     "output_type": "execute_result"
    }
   ],
   "source": [
    "configs = {\n",
    "    \"fs.azure.account.auth.type\": \"CustomAccessToken\",\n",
    "    \"fs.azure.account.custom.token.provider.class\": spark.conf.get(\"spark.databricks.passthrough.adls.gen2.tokenProviderClassName\")\n",
    "}\n",
    "\n",
    "\n",
    "mount_point = \"/mnt/cleaned-data\"\n",
    "\n",
    "try:\n",
    "    dbutils.fs.unmount(mount_point)\n",
    "    # Optional: Catch the exception if the mount point does not exist\n",
    "except Exception as e:\n",
    "    print(f\"Could not unmount {mount_point}: {e}\")\n",
    "\n",
    "# Now proceed with the mounting\n",
    "dbutils.fs.mount(\n",
    "    source = \"abfss://cleaned-data@datalake0012anee.dfs.core.windows.net/\",\n",
    "    mount_point = mount_point,\n",
    "    extra_configs = configs\n",
    ")\n"
   ]
  },
  {
   "cell_type": "code",
   "execution_count": 0,
   "metadata": {
    "application/vnd.databricks.v1+cell": {
     "cellMetadata": {
      "byteLimit": 2048000,
      "rowLimit": 10000
     },
     "inputWidgets": {},
     "nuid": "b8bcc7ac-abbb-4041-b734-054fa5910f98",
     "showTitle": false,
     "title": ""
    },
    "id": "0a4RtKRqPKPT",
    "outputId": "99f74825-304c-4828-b859-782403829183"
   },
   "outputs": [
    {
     "output_type": "execute_result",
     "data": {
      "text/plain": [
       "[FileInfo(path='dbfs:/mnt/cleaned-data/_SUCCESS', name='_SUCCESS', size=0, modificationTime=1710087341000),\n",
       " FileInfo(path='dbfs:/mnt/cleaned-data/_committed_4908096667950482827', name='_committed_4908096667950482827', size=123, modificationTime=1710087341000),\n",
       " FileInfo(path='dbfs:/mnt/cleaned-data/_started_4908096667950482827', name='_started_4908096667950482827', size=0, modificationTime=1710087340000),\n",
       " FileInfo(path='dbfs:/mnt/cleaned-data/part-00000-tid-4908096667950482827-a823fdb6-3441-400a-9750-78d8a0451478-65-1.c000.snappy.parquet', name='part-00000-tid-4908096667950482827-a823fdb6-3441-400a-9750-78d8a0451478-65-1.c000.snappy.parquet', size=3113195, modificationTime=1710087341000)]"
      ]
     },
     "execution_count": 3,
     "metadata": {},
     "output_type": "execute_result"
    }
   ],
   "source": [
    "dbutils.fs.ls(\"/mnt/cleaned-data\")"
   ]
  },
  {
   "cell_type": "code",
   "execution_count": 0,
   "metadata": {
    "application/vnd.databricks.v1+cell": {
     "cellMetadata": {
      "byteLimit": 2048000,
      "rowLimit": 10000
     },
     "inputWidgets": {},
     "nuid": "9252f74e-ce1b-4151-91b7-d0cb71fab42a",
     "showTitle": false,
     "title": ""
    },
    "id": "I3t9Z3_dPKPU"
   },
   "outputs": [],
   "source": [
    "input_path = \"/mnt/cleaned-data/part-00000-tid-4908096667950482827-a823fdb6-3441-400a-9750-78d8a0451478-65-1.c000.snappy.parquet\""
   ]
  },
  {
   "cell_type": "code",
   "execution_count": 0,
   "metadata": {
    "application/vnd.databricks.v1+cell": {
     "cellMetadata": {
      "byteLimit": 2048000,
      "rowLimit": 10000
     },
     "inputWidgets": {},
     "nuid": "91936b2a-bb00-4a39-b817-a44de327b014",
     "showTitle": false,
     "title": ""
    },
    "id": "AdT9BHRyPKPU"
   },
   "outputs": [],
   "source": [
    "df = spark.read.format('parquet').options(header='True', inferSchema='True').load(input_path)"
   ]
  },
  {
   "cell_type": "code",
   "execution_count": 0,
   "metadata": {
    "application/vnd.databricks.v1+cell": {
     "cellMetadata": {
      "byteLimit": 2048000,
      "rowLimit": 10000
     },
     "inputWidgets": {},
     "nuid": "659721ad-22b1-4d25-b331-c2f9c77fcb77",
     "showTitle": false,
     "title": ""
    },
    "id": "q8wosDOuPuxW"
   },
   "outputs": [],
   "source": [
    "from pyspark.ml.feature import StringIndexer, OneHotEncoder, VectorAssembler\n",
    "from pyspark.ml.classification import LogisticRegression\n",
    "from pyspark.ml.evaluation import MulticlassClassificationEvaluator\n",
    "from pyspark.ml import Pipeline\n",
    "\n",
    "# Load your data \n",
    "df_cleaned = df\n",
    "\n",
    "categoricalCols = ['gender', 'business_or_commercial', 'region', \"age\"]\n",
    "numericCols = [\"loan_amount\", \"rate_of_interest\", \"interest_rate_spread\", \"upfront_charges\", \"credit_score\", \"property_value\", \"ltv\", \"dtir1\", \"income\",  \"term\"]\n"
   ]
  },
  {
   "cell_type": "code",
   "execution_count": 0,
   "metadata": {
    "application/vnd.databricks.v1+cell": {
     "cellMetadata": {
      "byteLimit": 2048000,
      "rowLimit": 10000
     },
     "inputWidgets": {},
     "nuid": "368207be-cf34-4323-b6f9-0451696aa791",
     "showTitle": false,
     "title": ""
    }
   },
   "outputs": [],
   "source": [
    "# Indexing categorical columns\n",
    "indexers = [StringIndexer(inputCol=column, outputCol=column+\"_index\").setHandleInvalid(\"skip\") for column in categoricalCols]\n",
    "\n",
    "# Encoding categorical features\n",
    "encoders = [OneHotEncoder(inputCol=indexer.getOutputCol(), outputCol=indexer.getOutputCol()+\"_vec\") for indexer in indexers]\n"
   ]
  },
  {
   "cell_type": "code",
   "execution_count": 0,
   "metadata": {
    "application/vnd.databricks.v1+cell": {
     "cellMetadata": {
      "byteLimit": 2048000,
      "rowLimit": 10000
     },
     "inputWidgets": {},
     "nuid": "b839a8e5-0f72-4a48-af21-41e0c0bcae74",
     "showTitle": false,
     "title": ""
    }
   },
   "outputs": [],
   "source": [
    "# Assembling all features into a single vector\n",
    "assemblerInputs = [encoder.getOutputCol() for encoder in encoders] + numericCols\n",
    "assembler = VectorAssembler(inputCols=assemblerInputs, outputCol=\"features\")"
   ]
  },
  {
   "cell_type": "code",
   "execution_count": 0,
   "metadata": {
    "application/vnd.databricks.v1+cell": {
     "cellMetadata": {
      "byteLimit": 2048000,
      "rowLimit": 10000
     },
     "inputWidgets": {},
     "nuid": "48eece16-7581-4cee-9b57-a0e3ae68d82a",
     "showTitle": false,
     "title": ""
    }
   },
   "outputs": [],
   "source": [
    "lr = LogisticRegression(featuresCol=\"features\", labelCol=\"status\")"
   ]
  },
  {
   "cell_type": "code",
   "execution_count": 0,
   "metadata": {
    "application/vnd.databricks.v1+cell": {
     "cellMetadata": {
      "byteLimit": 2048000,
      "rowLimit": 10000
     },
     "inputWidgets": {},
     "nuid": "6d1bedc1-6576-49d7-ba19-1dfd458cd001",
     "showTitle": false,
     "title": ""
    }
   },
   "outputs": [],
   "source": [
    "pipeline = Pipeline(stages=indexers + encoders + [assembler, lr])"
   ]
  },
  {
   "cell_type": "code",
   "execution_count": 0,
   "metadata": {
    "application/vnd.databricks.v1+cell": {
     "cellMetadata": {
      "byteLimit": 2048000,
      "rowLimit": 10000
     },
     "inputWidgets": {},
     "nuid": "8627c3b7-35f4-4d81-bed5-5b4869da783f",
     "showTitle": false,
     "title": ""
    }
   },
   "outputs": [],
   "source": [
    "train_data, test_data = df_cleaned.randomSplit([0.7, 0.3], seed=42)\n",
    "\n",
    "# Train the model\n",
    "model = pipeline.fit(train_data)\n",
    "\n",
    "# Make predictions\n",
    "predictions = model.transform(test_data)"
   ]
  },
  {
   "cell_type": "code",
   "execution_count": 0,
   "metadata": {
    "application/vnd.databricks.v1+cell": {
     "cellMetadata": {
      "byteLimit": 2048000,
      "rowLimit": 10000
     },
     "inputWidgets": {},
     "nuid": "4863167e-404e-4688-aa59-5a41135f7fe2",
     "showTitle": false,
     "title": ""
    }
   },
   "outputs": [
    {
     "output_type": "stream",
     "name": "stdout",
     "output_type": "stream",
     "text": [
      "Test set accuracy = 75.58681239921161%\n"
     ]
    }
   ],
   "source": [
    "# Evaluate the model\n",
    "evaluator = MulticlassClassificationEvaluator(labelCol=\"status\", predictionCol=\"prediction\", metricName=\"accuracy\")\n",
    "accuracy = evaluator.evaluate(predictions)\n",
    "print(\"Test set accuracy = \" + str(accuracy * 100) + \"%\")"
   ]
  },
  {
   "cell_type": "code",
   "execution_count": 0,
   "metadata": {
    "application/vnd.databricks.v1+cell": {
     "cellMetadata": {
      "byteLimit": 2048000,
      "rowLimit": 10000
     },
     "inputWidgets": {},
     "nuid": "b4107ff6-1500-431d-9aaa-5ef237b5c847",
     "showTitle": false,
     "title": ""
    }
   },
   "outputs": [],
   "source": []
  },
  {
   "cell_type": "code",
   "execution_count": 0,
   "metadata": {
    "application/vnd.databricks.v1+cell": {
     "cellMetadata": {
      "byteLimit": 2048000,
      "rowLimit": 10000
     },
     "inputWidgets": {},
     "nuid": "84c0686a-3c31-4d00-bb47-baa725225278",
     "showTitle": false,
     "title": ""
    }
   },
   "outputs": [],
   "source": []
  }
 ],
 "metadata": {
  "application/vnd.databricks.v1+notebook": {
   "dashboards": [],
   "language": "python",
   "notebookMetadata": {
    "mostRecentlyExecutedCommandWithImplicitDF": {
     "commandId": 3002041327775571,
     "dataframes": [
      "_sqldf"
     ]
    },
    "pythonIndentUnit": 4
   },
   "notebookName": "ML-Model-Predictive-DataBricks",
   "widgets": {}
  },
  "colab": {
   "provenance": []
  },
  "kernelspec": {
   "display_name": "base",
   "language": "python",
   "name": "python3"
  },
  "language_info": {
   "codemirror_mode": {
    "name": "ipython",
    "version": 3
   },
   "file_extension": ".py",
   "mimetype": "text/x-python",
   "name": "python",
   "nbconvert_exporter": "python",
   "pygments_lexer": "ipython3",
   "version": "3.11.5"
  }
 },
 "nbformat": 4,
 "nbformat_minor": 0
}
